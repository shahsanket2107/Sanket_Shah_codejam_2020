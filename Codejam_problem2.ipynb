{
 "cells": [
  {
   "cell_type": "code",
   "execution_count": null,
   "metadata": {},
   "outputs": [],
   "source": [
    "t=int(input())\n",
    "for z in range(t):\n",
    "    a=input()\n",
    "    l=list(a)\n",
    "    p=[]\n",
    "    q=[]\n",
    "    for i in range(len(l)):\n",
    "        if l[i]=='1' and l[i+1]!='1':\n",
    "            p.append(i)\n",
    "        elif l[i]=='0' and l[i-1]=='1':\n",
    "            q.append(i)\n",
    "            \n",
    "    for i in \n",
    "            \n",
    "    s=\"\"\n",
    "    for i in l:\n",
    "        s+=i\n",
    "    print(s)\n",
    "    \n"
   ]
  },
  {
   "cell_type": "code",
   "execution_count": 2,
   "metadata": {},
   "outputs": [
    {
     "name": "stdout",
     "output_type": "stream",
     "text": [
      "1\n",
      "321012\n",
      "Case #1: (((3)2)1)0(1(2))\n"
     ]
    }
   ],
   "source": [
    "t=int(input())\n",
    "for z in range(t):\n",
    "    a=input()\n",
    "    l=[]\n",
    "    for i in a:\n",
    "        l.append(int(i))\n",
    "    c=0\n",
    "    i=0\n",
    "    \n",
    "    while(i<len(l)):\n",
    "        #print(l)\n",
    "        diff=l[i]-c\n",
    "        c=l[i]\n",
    "        if diff>0:\n",
    "            for j in range(diff):\n",
    "                l.insert(i,'(')\n",
    "            i+=diff\n",
    "        elif diff<0:\n",
    "            for j in range(abs(diff)):\n",
    "                l.insert(i,')')\n",
    "            i+=abs(diff)\n",
    "        i+=1\n",
    "    \n",
    "    temp=int(a[-1])\n",
    "    #print(temp)\n",
    "    for i in range(temp):\n",
    "        l.append(')')\n",
    "        \n",
    "    s=\"\"\n",
    "    for i in l:\n",
    "        s+=str(i)\n",
    "        \n",
    "    print(\"Case #{}: {}\".format(z+1,s))\n",
    "    \n"
   ]
  },
  {
   "cell_type": "code",
   "execution_count": null,
   "metadata": {},
   "outputs": [],
   "source": []
  }
 ],
 "metadata": {
  "kernelspec": {
   "display_name": "Python 3",
   "language": "python",
   "name": "python3"
  },
  "language_info": {
   "codemirror_mode": {
    "name": "ipython",
    "version": 3
   },
   "file_extension": ".py",
   "mimetype": "text/x-python",
   "name": "python",
   "nbconvert_exporter": "python",
   "pygments_lexer": "ipython3",
   "version": "3.7.4"
  }
 },
 "nbformat": 4,
 "nbformat_minor": 2
}
