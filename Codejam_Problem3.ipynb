{
 "cells": [
  {
   "cell_type": "code",
   "execution_count": 1,
   "metadata": {},
   "outputs": [
    {
     "name": "stdout",
     "output_type": "stream",
     "text": [
      "4\n",
      "3\n",
      "360 480\n",
      "420 540\n",
      "600 660\n",
      "Case #1: JCJ\n",
      "3\n",
      "0 1440\n",
      "1 3\n",
      "2 4\n",
      "Case #2: TEMPOSSIBLE\n",
      "5\n",
      "99 150\n",
      "1 100\n",
      "100 301\n",
      "2 5\n",
      "150 250\n",
      "Case #3: CJJCC\n",
      "2\n",
      "0 720\n",
      "720 1440\n",
      "Case #4: JJ\n"
     ]
    }
   ],
   "source": [
    "t = int(input())\n",
    "for i in range(t):\n",
    "    start = []\n",
    "    end = []\n",
    "    l = []\n",
    "    n = int(input())\n",
    "    J = -1\n",
    "    C = -1\n",
    "    l1 = []\n",
    "    l2 = []\n",
    "    temp = 0\n",
    "    s=\"\"\n",
    "    for j in range(n):\n",
    "        time = input()\n",
    "        a = time.split(\" \")\n",
    "        l.append(int(a[0]))\n",
    "        if(j == 0):\n",
    "            start.append(int(a[0]))\n",
    "            end.append(int(a[1]))\n",
    "        else:\n",
    "            for k in range(len(start)):\n",
    "                if(int(a[0])<start[k]):\n",
    "                    start.insert(k,int(a[0]))\n",
    "                    end.insert(k,int(a[1]))\n",
    "                    break\n",
    "                elif(k == len(start)-1):\n",
    "                    start.append(int(a[0]))\n",
    "                    end.append(int(a[1]))\n",
    "    for k in range(len(start)):\n",
    "        if(k==0):\n",
    "            J=k\n",
    "            l1.append(l.index(start[k]))\n",
    "        else:\n",
    "            if(start[k]<end[J]):\n",
    "                if(start[k]>=end[C] or C==-1):\n",
    "                    C=k\n",
    "                    l2.append(l.index(start[k]))\n",
    "                else:\n",
    "                    temp = 1\n",
    "                    break\n",
    "            elif(start[k]>=end[J]):\n",
    "                J=k\n",
    "                l1.append(l.index(start[k]))\n",
    "\n",
    "    if(temp == 1):\n",
    "        print(\"Case #{}: IMPOSSIBLE\".format(i+1))\n",
    "        temp = 0\n",
    "    else:\n",
    "        temp = 0\n",
    "        while(temp<n):\n",
    "            if(temp in l1):\n",
    "                s += \"J\"\n",
    "            else:\n",
    "                s += \"C\"\n",
    "            temp += 1\n",
    "        print(\"Case #{}: {}\".format(i+1,s))\n"
   ]
  },
  {
   "cell_type": "code",
   "execution_count": null,
   "metadata": {},
   "outputs": [],
   "source": []
  }
 ],
 "metadata": {
  "kernelspec": {
   "display_name": "Python 3",
   "language": "python",
   "name": "python3"
  },
  "language_info": {
   "codemirror_mode": {
    "name": "ipython",
    "version": 3
   },
   "file_extension": ".py",
   "mimetype": "text/x-python",
   "name": "python",
   "nbconvert_exporter": "python",
   "pygments_lexer": "ipython3",
   "version": "3.7.4"
  }
 },
 "nbformat": 4,
 "nbformat_minor": 2
}
